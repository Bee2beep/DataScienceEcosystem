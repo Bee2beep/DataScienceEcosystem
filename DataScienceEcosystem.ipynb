{
 "cells": [
  {
   "cell_type": "markdown",
   "id": "4159dcac-7d71-4594-b72c-423e2006143d",
   "metadata": {},
   "source": [
    "# Data Science Tools and Ecosystem"
   ]
  },
  {
   "cell_type": "markdown",
   "id": "0dcbf088-c863-4400-b11a-0b79ca4dc8fa",
   "metadata": {
    "tags": []
   },
   "source": [
    "In this notebook, Data Science Tools and Ecosystem are summarized."
   ]
  },
  {
   "cell_type": "markdown",
   "id": "7cb4680f-0714-4642-8818-a5630b197c83",
   "metadata": {},
   "source": [
    "**Objectives:**\n",
    "* The popular lanaguages for Data Scientists\n",
    "* The popular libraries for Data Scientists\n",
    "* The popular tools for Data Scientists\n",
    "* Performing simple arithmetic "
   ]
  },
  {
   "cell_type": "markdown",
   "id": "8ea5abbf-d69a-4f9b-963a-14ddd9e7b39d",
   "metadata": {},
   "source": [
    "Some of the popular languages that Data Scientists use are:\n",
    "1. Python\n",
    "2. SQL\n",
    "3. R\n",
    "4. VBA\n",
    "5. Julia\n",
    "6. JavaScript\n",
    "7. Java\n",
    "8. Scala\n",
    "9. SAS\n",
    "10.MATLAB\n",
    "11.C/C++/C#"
   ]
  },
  {
   "cell_type": "markdown",
   "id": "56801df6-f627-4107-9d77-8195778dc5ea",
   "metadata": {},
   "source": [
    "Some of the popular libraries used by Data Scientists include:\n",
    "1. Numpy\n",
    "2. Scipy\n",
    "3. Pandas\n",
    "4. Scikit-learn\n",
    "5. Matplotlib \n",
    "6. PyTorch\n",
    "7. TensorFlow\n",
    "8. BeautifulSoup"
   ]
  },
  {
   "cell_type": "markdown",
   "id": "8be1c924-5853-416a-a81a-69b58676a67f",
   "metadata": {},
   "source": [
    "| Data Science Tools|\n",
    "|---|\n",
    "|Jupyter Notebook|\n",
    "|SAS|\n",
    "|R|\n"
   ]
  },
  {
   "cell_type": "markdown",
   "id": "c9d4c88d-fc8a-482f-94fb-6a04cba6af3d",
   "metadata": {},
   "source": [
    "| Data Science Tools|\n",
    "|---|\n",
    "|Jupyter Notebook|\n",
    "|SAS|\n",
    "|R|\n"
   ]
  },
  {
   "cell_type": "markdown",
   "id": "dd812028-1708-4bc5-90cc-b19928c1786e",
   "metadata": {},
   "source": [
    "### Below are a few examples of evaluating arithmetic expressions in Python"
   ]
  },
  {
   "cell_type": "code",
   "execution_count": 1,
   "id": "3ba27ed8-5e39-4d6b-8a63-3db4c327cce9",
   "metadata": {
    "tags": []
   },
   "outputs": [
    {
     "data": {
      "text/plain": [
       "17"
      ]
     },
     "execution_count": 1,
     "metadata": {},
     "output_type": "execute_result"
    }
   ],
   "source": [
    "## This a simple arithmetic expression to multiply then add integers.\n",
    "(3*4)+5"
   ]
  },
  {
   "cell_type": "code",
   "execution_count": 3,
   "id": "a5e0e9dc-798a-4f19-9949-d7dbc4244dc5",
   "metadata": {
    "tags": []
   },
   "outputs": [
    {
     "data": {
      "text/plain": [
       "3.3333333333333335"
      ]
     },
     "execution_count": 3,
     "metadata": {},
     "output_type": "execute_result"
    }
   ],
   "source": [
    "## This will convert 200 minutes to hours by diving by 60\n",
    "200/60"
   ]
  },
  {
   "cell_type": "markdown",
   "id": "cb465c5a-dae9-4c84-bea4-8c46826c93e5",
   "metadata": {},
   "source": [
    "## Author:\n",
    "H.I KOH"
   ]
  }
 ],
 "metadata": {
  "kernelspec": {
   "display_name": "Python",
   "language": "python",
   "name": "conda-env-python-py"
  },
  "language_info": {
   "codemirror_mode": {
    "name": "ipython",
    "version": 3
   },
   "file_extension": ".py",
   "mimetype": "text/x-python",
   "name": "python",
   "nbconvert_exporter": "python",
   "pygments_lexer": "ipython3",
   "version": "3.7.12"
  }
 },
 "nbformat": 4,
 "nbformat_minor": 5
}
