{
  "metadata": {
    "kernelspec": {
      "name": "python",
      "display_name": "Python (Pyodide)",
      "language": "python"
    },
    "language_info": {
      "codemirror_mode": {
        "name": "python",
        "version": 3
      },
      "file_extension": ".py",
      "mimetype": "text/x-python",
      "name": "python",
      "nbconvert_exporter": "python",
      "pygments_lexer": "ipython3",
      "version": "3.8"
    }
  },
  "nbformat_minor": 5,
  "nbformat": 4,
  "cells": [
    {
      "id": "4159dcac-7d71-4594-b72c-423e2006143d",
      "cell_type": "markdown",
      "source": "# Data Science Tools and Ecosystem",
      "metadata": {
        "tags": []
      }
    },
    {
      "id": "0dcbf088-c863-4400-b11a-0b79ca4dc8fa",
      "cell_type": "markdown",
      "source": "In this notebook, Data Science Tools and Ecosystem are summarized.",
      "metadata": {
        "tags": []
      }
    },
    {
      "id": "7cb4680f-0714-4642-8818-a5630b197c83",
      "cell_type": "markdown",
      "source": "**Objectives:**\n* The popular lanaguages for Data Scientists\n* The popular libraries for Data Scientists\n* The popular tools for Data Scientists\n* Performing simple arithmetic ",
      "metadata": {}
    },
    {
      "id": "8ea5abbf-d69a-4f9b-963a-14ddd9e7b39d",
      "cell_type": "markdown",
      "source": "Some of the popular languages that Data Scientists use are:\n1. Python\n2. SQL\n3. R\n4. VBA\n5. Julia\n6. JavaScript\n7. Java\n8. Scala\n9. SAS\n10.MATLAB\n11.C/C++/C#",
      "metadata": {}
    },
    {
      "id": "56801df6-f627-4107-9d77-8195778dc5ea",
      "cell_type": "markdown",
      "source": "Some of the popular libraries used by Data Scientists include:\n1. Numpy\n2. Scipy\n3. Pandas\n4. Scikit-learn\n5. Matplotlib \n6. PyTorch\n7. TensorFlow\n8. BeautifulSoup",
      "metadata": {}
    },
    {
      "id": "8be1c924-5853-416a-a81a-69b58676a67f",
      "cell_type": "markdown",
      "source": "| Data Science Tools|\n|---|\n|Jupyter Notebook|\n|SAS|\n|R|\n",
      "metadata": {}
    },
    {
      "id": "dd812028-1708-4bc5-90cc-b19928c1786e",
      "cell_type": "markdown",
      "source": "### Below are a few examples of evaluating arithmetic expressions in Python",
      "metadata": {}
    },
    {
      "id": "3ba27ed8-5e39-4d6b-8a63-3db4c327cce9",
      "cell_type": "code",
      "source": "## This a simple arithmetic expression to multiply then add integers.\n(3*4)+5",
      "metadata": {
        "tags": []
      },
      "outputs": [
        {
          "data": {
            "text/plain": [
              "17"
            ]
          },
          "execution_count": 1,
          "metadata": {},
          "output_type": "execute_result"
        }
      ],
      "execution_count": 1
    },
    {
      "id": "a5e0e9dc-798a-4f19-9949-d7dbc4244dc5",
      "cell_type": "code",
      "source": "## This will convert 200 minutes to hours by diving by 60\n200/60",
      "metadata": {
        "tags": []
      },
      "outputs": [
        {
          "data": {
            "text/plain": [
              "3.3333333333333335"
            ]
          },
          "execution_count": 3,
          "metadata": {},
          "output_type": "execute_result"
        }
      ],
      "execution_count": 3
    },
    {
      "id": "cb465c5a-dae9-4c84-bea4-8c46826c93e5",
      "cell_type": "markdown",
      "source": "## Author:\nH.I KOH",
      "metadata": {}
    }
  ]
}